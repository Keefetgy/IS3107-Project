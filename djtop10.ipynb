{
 "cells": [
  {
   "cell_type": "code",
   "execution_count": 2,
   "id": "603d227a-fb08-4ea7-8eca-106b5f736e15",
   "metadata": {},
   "outputs": [
    {
     "name": "stdout",
     "output_type": "stream",
     "text": [
      "  Ticker\n",
      "0   MSFT\n",
      "1   AAPL\n",
      "2   AMZN\n",
      "3      V\n",
      "4    JPM\n",
      "5    WMT\n",
      "6    UNH\n",
      "7     PG\n",
      "8     HD\n",
      "9    JNJ\n"
     ]
    }
   ],
   "source": [
    "import pandas as pd\n",
    "from datetime import date\n",
    "import requests\n",
    "import yfinance as yf\n",
    "\n",
    "\n",
    "\n",
    "def fetch_and_get_top_stocks():\n",
    "    WIKI_URL = 'https://en.wikipedia.org/wiki/Dow_Jones_Industrial_Average'\n",
    "    tables = pd.read_html(WIKI_URL)\n",
    "    tickers = tables[1]['Symbol'].str.upper().tolist()  # Assuming the tickers are in the second table and converting to a list\n",
    "    \n",
    "    ticker_market_caps = []\n",
    "    for ticker in tickers:\n",
    "        market_cap = get_market_cap(ticker)\n",
    "        if market_cap:\n",
    "            ticker_market_caps.append((ticker, market_cap))  # Append ticker and market cap as tuple\n",
    "    \n",
    "    ticker_market_caps.sort(key=lambda x: x[1], reverse=True)  # Sort tickers by market cap in descending order\n",
    "    \n",
    "    top_tickers = [ticker[0] for ticker in ticker_market_caps[:10]]  # Extract top 10 tickers\n",
    "    \n",
    "    return pd.DataFrame({'Ticker': top_tickers})\n",
    "\n",
    "def get_market_cap(ticker):\n",
    "    stock = yf.Ticker(ticker)\n",
    "    try:\n",
    "        market_cap = stock.info['marketCap']\n",
    "        return market_cap\n",
    "    except KeyError:\n",
    "        print(f\"Market capitalization not available for {ticker}\")\n",
    "        return None\n",
    "\n",
    "# Example usage:\n",
    "#top_stocks_df = fetch_and_get_top_stocks()\n",
    "#print(top_stocks_df)\n"
   ]
  }
 ],
 "metadata": {
  "kernelspec": {
   "display_name": "Python 3 (ipykernel)",
   "language": "python",
   "name": "python3"
  },
  "language_info": {
   "codemirror_mode": {
    "name": "ipython",
    "version": 3
   },
   "file_extension": ".py",
   "mimetype": "text/x-python",
   "name": "python",
   "nbconvert_exporter": "python",
   "pygments_lexer": "ipython3",
   "version": "3.11.7"
  }
 },
 "nbformat": 4,
 "nbformat_minor": 5
}
