{
 "cells": [
  {
   "cell_type": "code",
   "execution_count": 38,
   "id": "603d227a-fb08-4ea7-8eca-106b5f736e15",
   "metadata": {},
   "outputs": [],
   "source": [
    "import pandas as pd\n",
    "from datetime import date\n",
    "import requests\n",
    "\n",
    "\n",
    "\n",
    "def fetch_and_get_top_stocks(api_keys):\n",
    "    WIKI_URL = 'https://en.wikipedia.org/wiki/Dow_Jones_Industrial_Average'\n",
    "    api_keys = ['L0S0FYJGSKZLWC8R', '63TMPZD2NJJ51WFA', 'YBATNF7ZMC9EJ246']\n",
    "    \n",
    "    tables = pd.read_html(WIKI_URL)\n",
    "    tickers = tables[1]['Symbol'].str.upper()  # Assuming the tickers are in the second table\n",
    "    \n",
    "    top_tickers = []\n",
    "    for key in api_keys:\n",
    "        tickers_with_market_cap = []\n",
    "        for ticker in tickers:\n",
    "            market_cap = get_market_cap(ticker, key)\n",
    "            if market_cap:\n",
    "                tickers_with_market_cap.append(ticker)\n",
    "            if len(tickers_with_market_cap) >= 10:\n",
    "                break\n",
    "        top_tickers.extend(tickers_with_market_cap)\n",
    "        if len(top_tickers) >= 10:\n",
    "            break\n",
    "            \n",
    "    top_tickers = sorted(top_tickers)[:10]  # Sort and limit to top 10 tickers\n",
    "    return pd.DataFrame({'Ticker': top_tickers})\n",
    "\n",
    "def get_market_cap(ticker, api_key):\n",
    "    url = f'https://www.alphavantage.co/query?function=OVERVIEW&symbol={ticker}&apikey={api_key}'\n",
    "    r = requests.get(url)\n",
    "    data = r.json()\n",
    "    market_cap = data.get('MarketCapitalization', None)\n",
    "    return market_cap\n",
    "\n",
    "\n",
    "# Example usage:\n",
    "#top_stocks_df = fetch_and_get_top_stocks(API_KEYS)\n",
    "#print(top_stocks_df)\n"
   ]
  },
  {
   "cell_type": "code",
   "execution_count": 39,
   "id": "a2400425-9ce3-4317-8bbd-5fde65f876a4",
   "metadata": {},
   "outputs": [
    {
     "name": "stdout",
     "output_type": "stream",
     "text": [
      "[]\n"
     ]
    }
   ],
   "source": [
    "tickers_df = fetch_DJ30_tickers()  # Assuming you have a function to fetch DJIA tickers\n",
    "api_keys = ['L0S0FYJGSKZLWC8R', '63TMPZD2NJJ51WFA', 'YBATNF7ZMC9EJ246']\n",
    "\n",
    "top_stocks = get_top_stocks(tickers_df, api_keys)\n",
    "print(top_stocks)"
   ]
  },
  {
   "cell_type": "code",
   "execution_count": null,
   "id": "ddfd0f48-1000-49fc-8d11-068c8c46154a",
   "metadata": {},
   "outputs": [],
   "source": []
  },
  {
   "cell_type": "code",
   "execution_count": null,
   "id": "c32d5867-407e-4ec0-8227-d32e92226cae",
   "metadata": {},
   "outputs": [],
   "source": []
  }
 ],
 "metadata": {
  "kernelspec": {
   "display_name": "Python 3 (ipykernel)",
   "language": "python",
   "name": "python3"
  },
  "language_info": {
   "codemirror_mode": {
    "name": "ipython",
    "version": 3
   },
   "file_extension": ".py",
   "mimetype": "text/x-python",
   "name": "python",
   "nbconvert_exporter": "python",
   "pygments_lexer": "ipython3",
   "version": "3.11.7"
  }
 },
 "nbformat": 4,
 "nbformat_minor": 5
}
